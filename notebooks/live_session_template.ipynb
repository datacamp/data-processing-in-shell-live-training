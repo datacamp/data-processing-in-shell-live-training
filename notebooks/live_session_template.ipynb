{
  "nbformat": 4,
  "nbformat_minor": 0,
  "metadata": {
    "colab": {
      "name": "live_session_template.ipynb",
      "provenance": []
    },
    "kernelspec": {
      "display_name": "Python 3",
      "language": "python",
      "name": "python3"
    },
    "language_info": {
      "codemirror_mode": {
        "name": "ipython",
        "version": 3
      },
      "file_extension": ".py",
      "mimetype": "text/x-python",
      "name": "python",
      "nbconvert_exporter": "python",
      "pygments_lexer": "ipython3",
      "version": "3.7.1"
    }
  },
  "cells": [
    {
      "cell_type": "markdown",
      "metadata": {
        "colab_type": "text",
        "id": "6Ijg5wUCTQYG"
      },
      "source": [
        "<p align=\"center\">\n",
        "<img src=\"https://github.com/datacamp/python-live-training-template/blob/master/assets/datacamp.svg?raw=True\" alt = \"DataCamp icon\" width=\"50%\">\n",
        "</p>\n",
        "<br><br>\n",
        "\n",
        "## **Live Training Template**\n",
        "\n",
        "_Enter a brief description of your session, here's an example below:_\n",
        "\n",
        "Welcome to this hands-on training where we will immerse yourself in data visualization in Python. Using both `matplotlib` and `seaborn`, we'll learn how to create visualizations that are presentation-ready.\n",
        "\n",
        "The ability to present and discuss\n",
        "\n",
        "* Create various types of plots, including bar-plots, distribution plots, box-plots and more using Seaborn and Matplotlib.\n",
        "* Format and stylize your visualizations to make them report-ready.\n",
        "* Create sub-plots to create clearer visualizations and supercharge your workflow.\n",
        "\n",
        "## **The Dataset**\n",
        "\n",
        "_Enter a brief description of your dataset and its columns, here's an example below:_\n",
        "\n",
        "\n",
        "The dataset to be used in this webinar is a CSV file named `airbnb.csv`, which contains data on airbnb listings in the state of New York. It contains the following columns:\n",
        "\n",
        "- `listing_id`: The unique identifier for a listing\n",
        "- `description`: The description used on the listing\n",
        "- `host_id`: Unique identifier for a host\n",
        "- `host_name`: Name of host\n",
        "- `neighbourhood_full`: Name of boroughs and neighbourhoods\n",
        "- `coordinates`: Coordinates of listing _(latitude, longitude)_\n",
        "- `Listing added`: Date of added listing\n",
        "- `room_type`: Type of room \n",
        "- `rating`: Rating from 0 to 5.\n",
        "- `price`: Price per night for listing\n",
        "- `number_of_reviews`: Amount of reviews received \n",
        "- `last_review`: Date of last review\n",
        "- `reviews_per_month`: Number of reviews per month\n",
        "- `availability_365`: Number of days available per year\n",
        "- `Number of stays`: Total number of stays thus far\n"
      ]
    },
    {
      "cell_type": "markdown",
      "metadata": {
        "colab_type": "text",
        "id": "BMYfcKeDY85K"
      },
      "source": [
        "## **Getting started**"
      ]
    },
    {
      "cell_type": "code",
      "metadata": {
        "colab_type": "code",
        "id": "EMQfyC7GUNhT",
        "outputId": "c83279e7-a23c-423a-90d7-5a53ac293a87",
        "colab": {
          "base_uri": "https://localhost:8080/",
          "height": 34
        }
      },
      "source": [
        "%%shell\n",
        "ls"
      ],
      "execution_count": 0,
      "outputs": [
        {
          "output_type": "stream",
          "text": [
            "sample_data\n"
          ],
          "name": "stdout"
        },
        {
          "output_type": "execute_result",
          "data": {
            "text/plain": [
              ""
            ]
          },
          "metadata": {
            "tags": []
          },
          "execution_count": 3
        }
      ]
    },
    {
      "cell_type": "markdown",
      "metadata": {
        "id": "J_c9BTrgXLAW",
        "colab_type": "text"
      },
      "source": [
        "### **Examples on use of markdown**\n",
        "\n",
        "#### **Images**\n",
        "\n",
        "To add images, gifs, or other assets of that kind, make sure to use the HTML `<img>` function as in the following \n",
        "```\n",
        "<p align=\"\">\n",
        "<img src=\"\" alt = \"alt-text\" width=\"100%\">\n",
        "</p>\n",
        "<br><br>\n",
        "```\n",
        "\n",
        "- The `align` argument takes in `\"center\"`, `\"left\"`, `\"right\"`.\n",
        "- The `src` argument takes in the raw link of your image.\n",
        "- The `width` argument takes in a percentage, where `100%` is the original size of the image. \n",
        "\n",
        "\n",
        "#### **Formulas**\n",
        "\n",
        "To use formulas, feel free to use Latex Notation as such:\n",
        "\n",
        "$y = ax + b$\n",
        "\n",
        "You can even use color schemes like in this example, where coefficients are colored in red\n",
        "\n",
        "$y = \\color{red}a x + \\color{red}b$\n",
        "\n",
        "#### **Changing font color and size**\n",
        "\n",
        "To change or highlight specific texts in a color, you can use the following\n",
        "\n",
        "```\n",
        "<font color=\"00AAFF\">**Example text**</font>\n",
        "```\n",
        "\n",
        "Where the results will look like <font color=\"00AAFF\">**Example text**</font>.\n",
        "\n",
        "- The `color` argument takes in a HEX code for your color. "
      ]
    }
  ]
}